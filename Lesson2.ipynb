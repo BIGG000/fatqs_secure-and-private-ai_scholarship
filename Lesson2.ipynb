{
  "nbformat": 4,
  "nbformat_minor": 0,
  "metadata": {
    "colab": {
      "name": "Lesson2.ipynb",
      "version": "0.3.2",
      "provenance": [],
      "include_colab_link": true
    },
    "kernelspec": {
      "name": "python3",
      "display_name": "Python 3"
    }
  },
  "cells": [
    {
      "cell_type": "markdown",
      "metadata": {
        "id": "view-in-github",
        "colab_type": "text"
      },
      "source": [
        "<a href=\"https://colab.research.google.com/github/elie-wanko/fatqs_private-and-secure-ai_scholarship/blob/master/Lesson2.ipynb\" target=\"_parent\"><img src=\"https://colab.research.google.com/assets/colab-badge.svg\" alt=\"Open In Colab\"/></a>"
      ]
    },
    {
      "cell_type": "markdown",
      "metadata": {
        "id": "qCEKh72tibcK",
        "colab_type": "text"
      },
      "source": [
        "# Lesson 2"
      ]
    },
    {
      "cell_type": "markdown",
      "metadata": {
        "id": "_a8HswMgiVG9",
        "colab_type": "text"
      },
      "source": [
        ""
      ]
    }
  ]
}